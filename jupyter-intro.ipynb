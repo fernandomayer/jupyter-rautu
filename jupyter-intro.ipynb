{
 "cells": [
  {
   "cell_type": "markdown",
   "metadata": {},
   "source": [
    "# Introdução ao uso do R no jupyter\n",
    "\n",
    "O [projeto jupyter](http://jupyter.org) surgiu para facilitar o uso, e principalmente o ensino de linguagens de programação, principalmete Julia (ju), Python (pyt) e R (er).\n",
    "\n",
    "A ferramenta principal é o jupyter notebook, que é uma aplicação web que permite escrever texto e código de uma linguagem interativamente. Do site do projeto:\n",
    "\n",
    "> O Notebook Jupyter é uma aplicação web que permite criar e compartilhar documentos que contenham códigos dinâmicos, equações, visualizações e textos explicativos. Usos incluem: limpeza e transformação de dados, simulação numérica, modelagem estatística, *machine learning* e muito mais."
   ]
  },
  {
   "cell_type": "code",
   "execution_count": null,
   "metadata": {
    "collapsed": true
   },
   "outputs": [],
   "source": []
  },
  {
   "cell_type": "code",
   "execution_count": null,
   "metadata": {
    "collapsed": true
   },
   "outputs": [],
   "source": []
  },
  {
   "cell_type": "code",
   "execution_count": null,
   "metadata": {
    "collapsed": true
   },
   "outputs": [],
   "source": []
  }
 ],
 "metadata": {
  "kernelspec": {
   "display_name": "R",
   "language": "R",
   "name": "ir"
  },
  "language_info": {
   "codemirror_mode": "r",
   "file_extension": ".r",
   "mimetype": "text/x-r-source",
   "name": "R",
   "pygments_lexer": "r",
   "version": "3.3.1"
  }
 },
 "nbformat": 4,
 "nbformat_minor": 0
}
